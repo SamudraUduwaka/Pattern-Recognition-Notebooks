{
 "cells": [
  {
   "cell_type": "markdown",
   "metadata": {},
   "source": [
    "## Logistic Regression"
   ]
  },
  {
   "cell_type": "code",
   "execution_count": 2,
   "metadata": {},
   "outputs": [
    {
     "name": "stdout",
     "output_type": "stream",
     "text": [
      "       species  class_encoded\n",
      "0       Adelie              0\n",
      "1       Adelie              0\n",
      "2       Adelie              0\n",
      "4       Adelie              0\n",
      "5       Adelie              0\n",
      "..         ...            ...\n",
      "215  Chinstrap              1\n",
      "216  Chinstrap              1\n",
      "217  Chinstrap              1\n",
      "218  Chinstrap              1\n",
      "219  Chinstrap              1\n",
      "\n",
      "[214 rows x 2 columns]\n"
     ]
    }
   ],
   "source": [
    "import seaborn as sns\n",
    "import pandas as pd\n",
    "from sklearn.model_selection import train_test_split\n",
    "from sklearn.preprocessing import LabelEncoder\n",
    "from sklearn.linear_model import LogisticRegression\n",
    "from sklearn.metrics import accuracy_score\n",
    "\n",
    "# Load the penguins dataset\n",
    "df = sns.load_dataset (\"penguins\")\n",
    "df.dropna ( inplace = True )\n",
    "\n",
    "# Filter rows for 'Adelie ' and 'Chinstrap ' classes\n",
    "selected_classes = ['Adelie', 'Chinstrap']\n",
    "df_filtered = df [ df ['species']. isin ( selected_classes ) ].copy () # Make a copy to avoid the warning\n",
    "\n",
    "# Initialize the LabelEncoder\n",
    "le = LabelEncoder()\n",
    "\n",
    "# Encode the species column\n",
    "y_encoded = le.fit_transform ( df_filtered ['species'])\n",
    "df_filtered ['class_encoded'] = y_encoded\n",
    "\n",
    "# Display the filtered and encoded DataFrame\n",
    "print ( df_filtered [[ 'species', 'class_encoded']])\n",
    "\n",
    "# Split the data into features (X) and target variable (y)\n",
    "y = df_filtered ['class_encoded'] # Target variable\n",
    "X = df_filtered.drop ([ 'species', 'island', 'sex','class_encoded'] , axis =1)"
   ]
  },
  {
   "cell_type": "code",
   "execution_count": 7,
   "metadata": {},
   "outputs": [
    {
     "name": "stdout",
     "output_type": "stream",
     "text": [
      " Accuracy : 0.5813953488372093\n",
      "[[ 2.75422091e-03 -8.42325734e-05  4.37962916e-04 -2.85287112e-04]] [-8.62223605e-06]\n"
     ]
    },
    {
     "name": "stderr",
     "output_type": "stream",
     "text": [
      "c:\\Python311\\Lib\\site-packages\\sklearn\\linear_model\\_sag.py:349: ConvergenceWarning: The max_iter was reached which means the coef_ did not converge\n",
      "  warnings.warn(\n"
     ]
    }
   ],
   "source": [
    "# Split the data into training and testing sets\\\n",
    "#20% of the data will be used for testing, while 80% will be used for training.\n",
    "#random_state=42: Ensures that the split is reproducible\n",
    "X_train , X_test , y_train , y_test = train_test_split (X , y , test_size =0.2 , random_state =42)\n",
    "\n",
    "#Train the logistic regression model . Here we are using saga solver to learn weights .\n",
    "\n",
    "logreg = LogisticRegression ( solver ='saga')\n",
    "logreg . fit ( X_train , y_train )\n",
    "\n",
    "# Predict on the testing data\n",
    "y_pred = logreg . predict ( X_test )\n",
    "\n",
    "# Evaluate the model\n",
    "accuracy = accuracy_score ( y_test , y_pred )\n",
    "print (\" Accuracy :\", accuracy )\n",
    "print ( logreg . coef_ , logreg . intercept_ )"
   ]
  },
  {
   "cell_type": "code",
   "execution_count": 8,
   "metadata": {},
   "outputs": [
    {
     "name": "stdout",
     "output_type": "stream",
     "text": [
      " Accuracy : 1.0\n",
      "[[ 1.59665154 -1.42501103 -0.15238046 -0.003951  ]] [-0.0755452]\n"
     ]
    }
   ],
   "source": [
    "# Split the data into training and testing sets\n",
    "X_train , X_test , y_train , y_test = train_test_split (X , y , test_size =0.2 , random_state =42)\n",
    "\n",
    "#Train the logistic regression model . Here we are using liblinear solver to learn weights .\n",
    "logreg = LogisticRegression ( solver ='liblinear')\n",
    "logreg . fit ( X_train , y_train )\n",
    "\n",
    "# Predict on the testing data\n",
    "y_pred = logreg . predict ( X_test )\n",
    "\n",
    "# Evaluate the model\n",
    "accuracy = accuracy_score ( y_test , y_pred )\n",
    "print (\" Accuracy :\", accuracy )\n",
    "print ( logreg . coef_ , logreg . intercept_ )"
   ]
  },
  {
   "cell_type": "markdown",
   "metadata": {},
   "source": [
    "### Apply feature scaling"
   ]
  },
  {
   "cell_type": "code",
   "execution_count": 9,
   "metadata": {},
   "outputs": [],
   "source": [
    "from sklearn.preprocessing import StandardScaler\n",
    "\n",
    "# Initialize the StandardScaler\n",
    "scaler = StandardScaler()\n",
    "\n",
    "# Fit the scaler on the training data and transform both training and testing sets\n",
    "X_train_scaled = scaler.fit_transform(X_train)\n",
    "X_test_scaled = scaler.transform(X_test)"
   ]
  },
  {
   "cell_type": "markdown",
   "metadata": {},
   "source": [
    "### Train With Feature Scaling"
   ]
  },
  {
   "cell_type": "code",
   "execution_count": 11,
   "metadata": {},
   "outputs": [
    {
     "name": "stdout",
     "output_type": "stream",
     "text": [
      "Accuracy with scaling (liblinear): 0.9767441860465116\n",
      "Accuracy with scaling (saga): 0.9767441860465116\n"
     ]
    }
   ],
   "source": [
    "# Train and evaluate using 'liblinear' solver with feature scaling\n",
    "liblinear_model_scaled = LogisticRegression(solver='liblinear')\n",
    "liblinear_model_scaled.fit(X_train_scaled, y_train)\n",
    "y_pred_liblinear_scaled = liblinear_model_scaled.predict(X_test_scaled)\n",
    "accuracy_liblinear_scaled = accuracy_score(y_test, y_pred_liblinear_scaled)\n",
    "print(\"Accuracy with scaling (liblinear):\", accuracy_liblinear_scaled)\n",
    "\n",
    "# Train and evaluate using 'saga' solver with feature scaling\n",
    "saga_model_scaled = LogisticRegression(solver='saga', max_iter=5000)\n",
    "saga_model_scaled.fit(X_train_scaled, y_train)\n",
    "y_pred_saga_scaled = saga_model_scaled.predict(X_test_scaled)\n",
    "accuracy_saga_scaled = accuracy_score(y_test, y_pred_saga_scaled)\n",
    "print(\"Accuracy with scaling (saga):\", accuracy_saga_scaled)"
   ]
  },
  {
   "cell_type": "markdown",
   "metadata": {},
   "source": [
    "### Run the code given in listing 3. What is the problem of this code and how to solve this?"
   ]
  },
  {
   "cell_type": "code",
   "execution_count": 13,
   "metadata": {},
   "outputs": [
    {
     "name": "stdout",
     "output_type": "stream",
     "text": [
      "Accuracy: 0.5813953488372093\n",
      "[[ 2.75299765e-03 -8.25858555e-05  4.56505593e-04 -2.86199493e-04]] [-8.50529609e-06]\n"
     ]
    },
    {
     "name": "stderr",
     "output_type": "stream",
     "text": [
      "c:\\Python311\\Lib\\site-packages\\sklearn\\linear_model\\_sag.py:349: ConvergenceWarning: The max_iter was reached which means the coef_ did not converge\n",
      "  warnings.warn(\n"
     ]
    }
   ],
   "source": [
    "import seaborn as sns\n",
    "import pandas as pd\n",
    "from sklearn.model_selection import train_test_split\n",
    "from sklearn.preprocessing import LabelEncoder\n",
    "from sklearn.linear_model import LogisticRegression\n",
    "from sklearn.metrics import accuracy_score\n",
    "\n",
    "# Load the penguins dataset\n",
    "df = sns.load_dataset(\"penguins\")\n",
    "df.dropna(inplace=True)\n",
    "\n",
    "# Filter rows for 'Adelie' and 'Chinstrap' classes\n",
    "selected_classes = ['Adelie', 'Chinstrap']\n",
    "df_filtered = df[df['species'].isin(selected_classes)].copy() # Make a copy to avoid the warning\n",
    "\n",
    "# Initialize the LabelEncoder\n",
    "le = LabelEncoder()\n",
    "\n",
    "# Encode the species column\n",
    "y_encoded = le.fit_transform(df_filtered['species'])\n",
    "df_filtered['class_encoded'] = y_encoded\n",
    "df_filtered.head()\n",
    "\n",
    "#X = df_filtered.drop(['species', 'class_encoded'], axis=1)\n",
    "X = df_filtered.drop(['sex', 'island', 'species', 'class_encoded'], axis=1)\n",
    "y = df_filtered['class_encoded'] # Target variable\n",
    "X.head()\n",
    "\n",
    "# Split the data into training and testing sets\n",
    "X_train, X_test, y_train, y_test = train_test_split(X, y,\n",
    "test_size=0.2, random_state=42)\n",
    "logreg = LogisticRegression(solver='saga')\n",
    "logreg.fit(X_train, y_train)\n",
    "\n",
    "# Predict on the testing data\n",
    "y_pred = logreg.predict(X_test)\n",
    "\n",
    "# Evaluate the model\n",
    "accuracy = accuracy_score(y_test, y_pred)\n",
    "print(\"Accuracy:\", accuracy)\n",
    "print(logreg.coef_, logreg.intercept_)"
   ]
  }
 ],
 "metadata": {
  "kernelspec": {
   "display_name": "Python 3",
   "language": "python",
   "name": "python3"
  },
  "language_info": {
   "codemirror_mode": {
    "name": "ipython",
    "version": 3
   },
   "file_extension": ".py",
   "mimetype": "text/x-python",
   "name": "python",
   "nbconvert_exporter": "python",
   "pygments_lexer": "ipython3",
   "version": "3.11.4"
  }
 },
 "nbformat": 4,
 "nbformat_minor": 2
}
